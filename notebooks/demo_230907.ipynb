{
 "cells": [
  {
   "attachments": {},
   "cell_type": "markdown",
   "metadata": {},
   "source": [
    "# Synutils repo walk-through 7th Sep 2023\n",
    "\n",
    "This walk-through series primarily aims to explore Synple's Python utility module, providing an in-depth understanding of the technical details of computational services, with a primary focus on cheminformatics functions.\n",
    "\n",
    "However, as we delve into the fundamental programming practices of cheminformatic functions, I extend this invitation to non-Synple members to join the series.\n",
    "\n",
    "## Git usage\n",
    "There are tones of great tutorials on internet, here is one (thx Julian!) https://codingforchemists.com/vcs-basics/\n",
    "\n",
    "More a practical understanding of commits: \n",
    "![git_snapshot](../resources/figs/git_snapshot.png)\n",
    "\n",
    "## Installation\n",
    "```\n",
    "% git clone https://github.com/Synple-Chem/synple-utils.git\n",
    "% cd synple-utils\n",
    "% make env\n",
    "% conda activate ./env\n",
    "```\n",
    "\n",
    "\n"
   ]
  },
  {
   "cell_type": "code",
   "execution_count": 9,
   "metadata": {},
   "outputs": [],
   "source": [
    "# import packages\n",
    "import pandas as pd\n",
    "import numpy as np\n",
    "from rdkit.Chem import MolFromSmiles\n",
    "from synutils.featurizers import AVAILABLE_FEATURIZERS, get_featurizer\n",
    "from synutils.path import ROOT_PATH"
   ]
  },
  {
   "cell_type": "code",
   "execution_count": 6,
   "metadata": {},
   "outputs": [
    {
     "data": {
      "text/html": [
       "<div>\n",
       "<style scoped>\n",
       "    .dataframe tbody tr th:only-of-type {\n",
       "        vertical-align: middle;\n",
       "    }\n",
       "\n",
       "    .dataframe tbody tr th {\n",
       "        vertical-align: top;\n",
       "    }\n",
       "\n",
       "    .dataframe thead th {\n",
       "        text-align: right;\n",
       "    }\n",
       "</style>\n",
       "<table border=\"1\" class=\"dataframe\">\n",
       "  <thead>\n",
       "    <tr style=\"text-align: right;\">\n",
       "      <th></th>\n",
       "      <th>parent_id</th>\n",
       "      <th>smiles</th>\n",
       "    </tr>\n",
       "  </thead>\n",
       "  <tbody>\n",
       "    <tr>\n",
       "      <th>0</th>\n",
       "      <td>492995</td>\n",
       "      <td>CC(C)(C)C(=O)CC#N</td>\n",
       "    </tr>\n",
       "    <tr>\n",
       "      <th>1</th>\n",
       "      <td>2729170</td>\n",
       "      <td>Clc1ccc2c(CCc3cccnc3C2=O)c1</td>\n",
       "    </tr>\n",
       "    <tr>\n",
       "      <th>2</th>\n",
       "      <td>2724050</td>\n",
       "      <td>CCOC(=O)c1ccccc1S(N)(=O)=O</td>\n",
       "    </tr>\n",
       "    <tr>\n",
       "      <th>3</th>\n",
       "      <td>6871863</td>\n",
       "      <td>CCOC(=O)c1cc(Br)c[nH]1</td>\n",
       "    </tr>\n",
       "    <tr>\n",
       "      <th>4</th>\n",
       "      <td>526873</td>\n",
       "      <td>COc1ccccc1CO</td>\n",
       "    </tr>\n",
       "  </tbody>\n",
       "</table>\n",
       "</div>"
      ],
      "text/plain": [
       "   parent_id                       smiles\n",
       "0     492995            CC(C)(C)C(=O)CC#N\n",
       "1    2729170  Clc1ccc2c(CCc3cccnc3C2=O)c1\n",
       "2    2724050   CCOC(=O)c1ccccc1S(N)(=O)=O\n",
       "3    6871863       CCOC(=O)c1cc(Br)c[nH]1\n",
       "4     526873                 COc1ccccc1CO"
      ]
     },
     "execution_count": 6,
     "metadata": {},
     "output_type": "execute_result"
    }
   ],
   "source": [
    "# load sample data\n",
    "data_path = ROOT_PATH/'data'/ 'data_230907.csv'\n",
    "df = pd.read_csv(data_path)\n",
    "df.head()"
   ]
  },
  {
   "cell_type": "code",
   "execution_count": 7,
   "metadata": {},
   "outputs": [
    {
     "name": "stdout",
     "output_type": "stream",
     "text": [
      "There are 9 available featurizers: dict_keys(['rdkit_2d', 'morgan', 'morgan_count', 'rdkit', 'rdkit_count', 'topological_torsion', 'topological_torsion_count', 'morgan_count_rdkit_2d', 'morgan_rdkit_2d'])\n"
     ]
    }
   ],
   "source": [
    "# featurizers\n",
    "avalable_feature_names = AVAILABLE_FEATURIZERS.keys()\n",
    "print(f\"There are {len(avalable_feature_names)} available featurizers: {avalable_feature_names}\")"
   ]
  },
  {
   "cell_type": "code",
   "execution_count": 8,
   "metadata": {},
   "outputs": [
    {
     "name": "stdout",
     "output_type": "stream",
     "text": [
      "rdkit 2D featurizer returns you rdkit 2D features includes ['MaxAbsEStateIndex', 'MaxEStateIndex', 'MinAbsEStateIndex', 'MinEStateIndex', 'qed', 'MolWt', 'HeavyAtomMolWt', 'ExactMolWt', 'NumValenceElectrons', 'NumRadicalElectrons', 'MaxPartialCharge', 'MinPartialCharge', 'MaxAbsPartialCharge', 'MinAbsPartialCharge', 'FpDensityMorgan1', 'FpDensityMorgan2', 'FpDensityMorgan3', 'BCUT2D_MWHI', 'BCUT2D_MWLOW', 'BCUT2D_CHGHI', 'BCUT2D_CHGLO', 'BCUT2D_LOGPHI', 'BCUT2D_LOGPLOW', 'BCUT2D_MRHI', 'BCUT2D_MRLOW', 'BalabanJ', 'BertzCT', 'Chi0', 'Chi0n', 'Chi0v', 'Chi1', 'Chi1n', 'Chi1v', 'Chi2n', 'Chi2v', 'Chi3n', 'Chi3v', 'Chi4n', 'Chi4v', 'HallKierAlpha', 'Kappa1', 'Kappa2', 'Kappa3', 'LabuteASA', 'PEOE_VSA1', 'PEOE_VSA10', 'PEOE_VSA11', 'PEOE_VSA12', 'PEOE_VSA13', 'PEOE_VSA14', 'PEOE_VSA2', 'PEOE_VSA3', 'PEOE_VSA4', 'PEOE_VSA5', 'PEOE_VSA6', 'PEOE_VSA7', 'PEOE_VSA8', 'PEOE_VSA9', 'SMR_VSA1', 'SMR_VSA10', 'SMR_VSA2', 'SMR_VSA3', 'SMR_VSA4', 'SMR_VSA5', 'SMR_VSA6', 'SMR_VSA7', 'SMR_VSA9', 'SlogP_VSA1', 'SlogP_VSA10', 'SlogP_VSA11', 'SlogP_VSA12', 'SlogP_VSA2', 'SlogP_VSA3', 'SlogP_VSA4', 'SlogP_VSA5', 'SlogP_VSA6', 'SlogP_VSA7', 'SlogP_VSA8', 'TPSA', 'EState_VSA1', 'EState_VSA10', 'EState_VSA11', 'EState_VSA2', 'EState_VSA3', 'EState_VSA4', 'EState_VSA5', 'EState_VSA6', 'EState_VSA7', 'EState_VSA8', 'EState_VSA9', 'VSA_EState1', 'VSA_EState10', 'VSA_EState2', 'VSA_EState3', 'VSA_EState4', 'VSA_EState5', 'VSA_EState6', 'VSA_EState7', 'VSA_EState8', 'VSA_EState9', 'FractionCSP3', 'HeavyAtomCount', 'NHOHCount', 'NOCount', 'NumAliphaticCarbocycles', 'NumAliphaticHeterocycles', 'NumAliphaticRings', 'NumAromaticCarbocycles', 'NumAromaticHeterocycles', 'NumAromaticRings', 'NumHAcceptors', 'NumHDonors', 'NumHeteroatoms', 'NumRotatableBonds', 'NumSaturatedCarbocycles', 'NumSaturatedHeterocycles', 'NumSaturatedRings', 'RingCount', 'MolLogP', 'MolMR', 'fr_Al_COO', 'fr_Al_OH', 'fr_Al_OH_noTert', 'fr_Ar_N', 'fr_Ar_NH', 'fr_Ar_OH', 'fr_COO', 'fr_COO2', 'fr_C_O', 'fr_C_O_noCOO', 'fr_NH0', 'fr_NH1', 'fr_NH2', 'fr_Ndealkylation1', 'fr_Ndealkylation2', 'fr_Nhpyrrole', 'fr_alkyl_carbamate', 'fr_alkyl_halide', 'fr_allylic_oxid', 'fr_amide', 'fr_amidine', 'fr_aniline', 'fr_aryl_methyl', 'fr_azide', 'fr_azo', 'fr_barbitur', 'fr_benzene', 'fr_bicyclic', 'fr_dihydropyridine', 'fr_epoxide', 'fr_ester', 'fr_ether', 'fr_halogen', 'fr_hdrzine', 'fr_ketone', 'fr_ketone_Topliss', 'fr_lactam', 'fr_lactone', 'fr_methoxy', 'fr_nitro', 'fr_nitro_arom', 'fr_nitro_arom_nonortho', 'fr_nitroso', 'fr_para_hydroxylation', 'fr_phenol', 'fr_phenol_noOrthoHbond', 'fr_piperdine', 'fr_pyridine', 'fr_quatN', 'fr_sulfonamd', 'fr_unbrch_alkane', 'fr_urea']\n"
     ]
    }
   ],
   "source": [
    "rdkit_2d_featurizer = get_featurizer('rdkit_2d')\n",
    "print(f\"rdkit 2D featurizer returns you rdkit 2D features includes {rdkit_2d_featurizer.desc_list}\")"
   ]
  },
  {
   "cell_type": "code",
   "execution_count": 10,
   "metadata": {},
   "outputs": [
    {
     "data": {
      "text/html": [
       "<div>\n",
       "<style scoped>\n",
       "    .dataframe tbody tr th:only-of-type {\n",
       "        vertical-align: middle;\n",
       "    }\n",
       "\n",
       "    .dataframe tbody tr th {\n",
       "        vertical-align: top;\n",
       "    }\n",
       "\n",
       "    .dataframe thead th {\n",
       "        text-align: right;\n",
       "    }\n",
       "</style>\n",
       "<table border=\"1\" class=\"dataframe\">\n",
       "  <thead>\n",
       "    <tr style=\"text-align: right;\">\n",
       "      <th></th>\n",
       "      <th>parent_id</th>\n",
       "      <th>smiles</th>\n",
       "      <th>mol</th>\n",
       "      <th>rdkit_2d</th>\n",
       "    </tr>\n",
       "  </thead>\n",
       "  <tbody>\n",
       "    <tr>\n",
       "      <th>0</th>\n",
       "      <td>492995</td>\n",
       "      <td>CC(C)(C)C(=O)CC#N</td>\n",
       "      <td>&lt;rdkit.Chem.rdchem.Mol object at 0x14a35e730&gt;</td>\n",
       "      <td>[10.842083, 10.842083, 0.0046296297, -0.351458...</td>\n",
       "    </tr>\n",
       "    <tr>\n",
       "      <th>1</th>\n",
       "      <td>2729170</td>\n",
       "      <td>Clc1ccc2c(CCc3cccnc3C2=O)c1</td>\n",
       "      <td>&lt;rdkit.Chem.rdchem.Mol object at 0x14a35e650&gt;</td>\n",
       "      <td>[12.333679, 12.333679, 0.00441358, 0.00441358,...</td>\n",
       "    </tr>\n",
       "    <tr>\n",
       "      <th>2</th>\n",
       "      <td>2724050</td>\n",
       "      <td>CCOC(=O)c1ccccc1S(N)(=O)=O</td>\n",
       "      <td>&lt;rdkit.Chem.rdchem.Mol object at 0x14a35e810&gt;</td>\n",
       "      <td>[11.369954, 11.369954, 0.039953705, -3.8976412...</td>\n",
       "    </tr>\n",
       "    <tr>\n",
       "      <th>3</th>\n",
       "      <td>6871863</td>\n",
       "      <td>CCOC(=O)c1cc(Br)c[nH]1</td>\n",
       "      <td>&lt;rdkit.Chem.rdchem.Mol object at 0x14a35e7a0&gt;</td>\n",
       "      <td>[10.983704, 10.983704, 0.3211111, -0.3211111, ...</td>\n",
       "    </tr>\n",
       "    <tr>\n",
       "      <th>4</th>\n",
       "      <td>526873</td>\n",
       "      <td>COc1ccccc1CO</td>\n",
       "      <td>&lt;rdkit.Chem.rdchem.Mol object at 0x14a35e880&gt;</td>\n",
       "      <td>[8.769537, 8.769537, 0.03175926, 0.03175926, 0...</td>\n",
       "    </tr>\n",
       "  </tbody>\n",
       "</table>\n",
       "</div>"
      ],
      "text/plain": [
       "   parent_id                       smiles  \\\n",
       "0     492995            CC(C)(C)C(=O)CC#N   \n",
       "1    2729170  Clc1ccc2c(CCc3cccnc3C2=O)c1   \n",
       "2    2724050   CCOC(=O)c1ccccc1S(N)(=O)=O   \n",
       "3    6871863       CCOC(=O)c1cc(Br)c[nH]1   \n",
       "4     526873                 COc1ccccc1CO   \n",
       "\n",
       "                                             mol  \\\n",
       "0  <rdkit.Chem.rdchem.Mol object at 0x14a35e730>   \n",
       "1  <rdkit.Chem.rdchem.Mol object at 0x14a35e650>   \n",
       "2  <rdkit.Chem.rdchem.Mol object at 0x14a35e810>   \n",
       "3  <rdkit.Chem.rdchem.Mol object at 0x14a35e7a0>   \n",
       "4  <rdkit.Chem.rdchem.Mol object at 0x14a35e880>   \n",
       "\n",
       "                                            rdkit_2d  \n",
       "0  [10.842083, 10.842083, 0.0046296297, -0.351458...  \n",
       "1  [12.333679, 12.333679, 0.00441358, 0.00441358,...  \n",
       "2  [11.369954, 11.369954, 0.039953705, -3.8976412...  \n",
       "3  [10.983704, 10.983704, 0.3211111, -0.3211111, ...  \n",
       "4  [8.769537, 8.769537, 0.03175926, 0.03175926, 0...  "
      ]
     },
     "execution_count": 10,
     "metadata": {},
     "output_type": "execute_result"
    }
   ],
   "source": [
    "# add features to dataframe\n",
    "df[\"mol\"] = df[\"smiles\"].apply(lambda x: MolFromSmiles(x))\n",
    "df[\"rdkit_2d\"] = df[\"mol\"].apply(lambda x: rdkit_2d_featurizer.get_feat(x))\n",
    "df.head()"
   ]
  },
  {
   "cell_type": "code",
   "execution_count": 11,
   "metadata": {},
   "outputs": [
    {
     "data": {
      "text/html": [
       "<div>\n",
       "<style scoped>\n",
       "    .dataframe tbody tr th:only-of-type {\n",
       "        vertical-align: middle;\n",
       "    }\n",
       "\n",
       "    .dataframe tbody tr th {\n",
       "        vertical-align: top;\n",
       "    }\n",
       "\n",
       "    .dataframe thead th {\n",
       "        text-align: right;\n",
       "    }\n",
       "</style>\n",
       "<table border=\"1\" class=\"dataframe\">\n",
       "  <thead>\n",
       "    <tr style=\"text-align: right;\">\n",
       "      <th></th>\n",
       "      <th>parent_id</th>\n",
       "      <th>smiles</th>\n",
       "      <th>mol</th>\n",
       "      <th>rdkit_2d</th>\n",
       "      <th>morgan</th>\n",
       "    </tr>\n",
       "  </thead>\n",
       "  <tbody>\n",
       "    <tr>\n",
       "      <th>0</th>\n",
       "      <td>492995</td>\n",
       "      <td>CC(C)(C)C(=O)CC#N</td>\n",
       "      <td>&lt;rdkit.Chem.rdchem.Mol object at 0x14a35e730&gt;</td>\n",
       "      <td>[10.842083, 10.842083, 0.0046296297, -0.351458...</td>\n",
       "      <td>[0, 0, 0, 0, 0, 0, 0, 0, 0, 0, 0, 0, 0, 0, 0, ...</td>\n",
       "    </tr>\n",
       "    <tr>\n",
       "      <th>1</th>\n",
       "      <td>2729170</td>\n",
       "      <td>Clc1ccc2c(CCc3cccnc3C2=O)c1</td>\n",
       "      <td>&lt;rdkit.Chem.rdchem.Mol object at 0x14a35e650&gt;</td>\n",
       "      <td>[12.333679, 12.333679, 0.00441358, 0.00441358,...</td>\n",
       "      <td>[0, 0, 0, 0, 0, 0, 0, 0, 0, 0, 0, 0, 0, 0, 0, ...</td>\n",
       "    </tr>\n",
       "    <tr>\n",
       "      <th>2</th>\n",
       "      <td>2724050</td>\n",
       "      <td>CCOC(=O)c1ccccc1S(N)(=O)=O</td>\n",
       "      <td>&lt;rdkit.Chem.rdchem.Mol object at 0x14a35e810&gt;</td>\n",
       "      <td>[11.369954, 11.369954, 0.039953705, -3.8976412...</td>\n",
       "      <td>[0, 0, 0, 0, 0, 0, 0, 0, 0, 0, 0, 0, 0, 0, 0, ...</td>\n",
       "    </tr>\n",
       "    <tr>\n",
       "      <th>3</th>\n",
       "      <td>6871863</td>\n",
       "      <td>CCOC(=O)c1cc(Br)c[nH]1</td>\n",
       "      <td>&lt;rdkit.Chem.rdchem.Mol object at 0x14a35e7a0&gt;</td>\n",
       "      <td>[10.983704, 10.983704, 0.3211111, -0.3211111, ...</td>\n",
       "      <td>[0, 0, 0, 0, 0, 0, 0, 0, 0, 0, 0, 0, 0, 0, 0, ...</td>\n",
       "    </tr>\n",
       "    <tr>\n",
       "      <th>4</th>\n",
       "      <td>526873</td>\n",
       "      <td>COc1ccccc1CO</td>\n",
       "      <td>&lt;rdkit.Chem.rdchem.Mol object at 0x14a35e880&gt;</td>\n",
       "      <td>[8.769537, 8.769537, 0.03175926, 0.03175926, 0...</td>\n",
       "      <td>[0, 0, 0, 0, 0, 0, 0, 0, 0, 0, 0, 0, 0, 0, 0, ...</td>\n",
       "    </tr>\n",
       "  </tbody>\n",
       "</table>\n",
       "</div>"
      ],
      "text/plain": [
       "   parent_id                       smiles  \\\n",
       "0     492995            CC(C)(C)C(=O)CC#N   \n",
       "1    2729170  Clc1ccc2c(CCc3cccnc3C2=O)c1   \n",
       "2    2724050   CCOC(=O)c1ccccc1S(N)(=O)=O   \n",
       "3    6871863       CCOC(=O)c1cc(Br)c[nH]1   \n",
       "4     526873                 COc1ccccc1CO   \n",
       "\n",
       "                                             mol  \\\n",
       "0  <rdkit.Chem.rdchem.Mol object at 0x14a35e730>   \n",
       "1  <rdkit.Chem.rdchem.Mol object at 0x14a35e650>   \n",
       "2  <rdkit.Chem.rdchem.Mol object at 0x14a35e810>   \n",
       "3  <rdkit.Chem.rdchem.Mol object at 0x14a35e7a0>   \n",
       "4  <rdkit.Chem.rdchem.Mol object at 0x14a35e880>   \n",
       "\n",
       "                                            rdkit_2d  \\\n",
       "0  [10.842083, 10.842083, 0.0046296297, -0.351458...   \n",
       "1  [12.333679, 12.333679, 0.00441358, 0.00441358,...   \n",
       "2  [11.369954, 11.369954, 0.039953705, -3.8976412...   \n",
       "3  [10.983704, 10.983704, 0.3211111, -0.3211111, ...   \n",
       "4  [8.769537, 8.769537, 0.03175926, 0.03175926, 0...   \n",
       "\n",
       "                                              morgan  \n",
       "0  [0, 0, 0, 0, 0, 0, 0, 0, 0, 0, 0, 0, 0, 0, 0, ...  \n",
       "1  [0, 0, 0, 0, 0, 0, 0, 0, 0, 0, 0, 0, 0, 0, 0, ...  \n",
       "2  [0, 0, 0, 0, 0, 0, 0, 0, 0, 0, 0, 0, 0, 0, 0, ...  \n",
       "3  [0, 0, 0, 0, 0, 0, 0, 0, 0, 0, 0, 0, 0, 0, 0, ...  \n",
       "4  [0, 0, 0, 0, 0, 0, 0, 0, 0, 0, 0, 0, 0, 0, 0, ...  "
      ]
     },
     "execution_count": 11,
     "metadata": {},
     "output_type": "execute_result"
    }
   ],
   "source": [
    "morgan_featurizer = get_featurizer('morgan')\n",
    "df[\"morgan\"] = df[\"mol\"].apply(lambda x: morgan_featurizer.get_feat(x))\n",
    "df.head()"
   ]
  }
 ],
 "metadata": {
  "kernelspec": {
   "display_name": "Python 3",
   "language": "python",
   "name": "python3"
  },
  "language_info": {
   "codemirror_mode": {
    "name": "ipython",
    "version": 3
   },
   "file_extension": ".py",
   "mimetype": "text/x-python",
   "name": "python",
   "nbconvert_exporter": "python",
   "pygments_lexer": "ipython3",
   "version": "3.11.4"
  },
  "orig_nbformat": 4
 },
 "nbformat": 4,
 "nbformat_minor": 2
}

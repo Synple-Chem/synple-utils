{
 "cells": [
  {
   "attachments": {},
   "cell_type": "markdown",
   "metadata": {},
   "source": [
    "# Synutils repo walk-through 7th Sep 2023\n",
    "\n",
    "This walk-through series primarily aims to explore Synple's Python utility module, providing an in-depth understanding of the technical details of computational services, with a primary focus on cheminformatics functions.\n",
    "\n",
    "However, as we delve into the fundamental programming practices of cheminformatic functions, I extend this invitation to non-Synple members to join the series.\n",
    "\n",
    "## Git usage\n",
    "There are tones of great tutorials on internet, here is one (thx Julian!) https://codingforchemists.com/vcs-basics/\n",
    "\n",
    "More a practical understanding of commits: \n",
    "![git_snapshot](../resources/figs/git_snapshot.png)\n",
    "\n",
    "## Installation\n",
    "```\n",
    "% git clone https://github.com/Synple-Chem/synple-utils.git\n",
    "% cd synple-utils\n",
    "% make env\n",
    "% conda activate ./env\n",
    "```\n",
    "\n",
    "\n"
   ]
  },
  {
   "cell_type": "code",
   "execution_count": 1,
   "metadata": {},
   "outputs": [],
   "source": [
    "# import packages\n",
    "import pandas as pd\n",
    "import numpy as np\n",
    "from rdkit.Chem import MolFromSmiles\n",
    "from synutils.featurizers import AVAILABLE_FEATURIZERS, get_featurizer\n",
    "from synutils.path import ROOT_PATH"
   ]
  },
  {
   "cell_type": "code",
   "execution_count": null,
   "metadata": {},
   "outputs": [],
   "source": [
    "# load sample data\n",
    "data_path = ROOT_PATH/'data'/ 'data_230907.csv'\n",
    "df = pd.read_csv(data_path)\n",
    "df.head()"
   ]
  },
  {
   "cell_type": "code",
   "execution_count": null,
   "metadata": {},
   "outputs": [],
   "source": [
    "# featurizers\n",
    "avalable_feature_names = AVAILABLE_FEATURIZERS.keys()\n",
    "print(f\"There are {len(avalable_feature_names)} available featurizers: {avalable_feature_names}\")"
   ]
  },
  {
   "cell_type": "code",
   "execution_count": null,
   "metadata": {},
   "outputs": [],
   "source": [
    "rdkit_2d_featurizer = get_featurizer('rdkit_2d')\n",
    "print(f\"rdkit 2D featurizer returns you rdkit 2D features includes {rdkit_2d_featurizer.desc_list}\")"
   ]
  },
  {
   "cell_type": "code",
   "execution_count": null,
   "metadata": {},
   "outputs": [],
   "source": [
    "# add features to dataframe\n",
    "df[\"mol\"] = df[\"smiles\"].apply(lambda x: MolFromSmiles(x))\n",
    "df[\"rdkit_2d\"] = df[\"mol\"].apply(lambda x: rdkit_2d_featurizer.get_feat(x))\n",
    "df.head()"
   ]
  },
  {
   "cell_type": "code",
   "execution_count": null,
   "metadata": {},
   "outputs": [],
   "source": [
    "morgan_featurizer = get_featurizer('morgan')\n",
    "df[\"morgan\"] = df[\"mol\"].apply(lambda x: morgan_featurizer.get_feat(x))\n",
    "df.head()"
   ]
  }
 ],
 "metadata": {
  "kernelspec": {
   "display_name": "Python 3",
   "language": "python",
   "name": "python3"
  },
  "language_info": {
   "codemirror_mode": {
    "name": "ipython",
    "version": 3
   },
   "file_extension": ".py",
   "mimetype": "text/x-python",
   "name": "python",
   "nbconvert_exporter": "python",
   "pygments_lexer": "ipython3",
   "version": "3.11.4"
  },
  "orig_nbformat": 4
 },
 "nbformat": 4,
 "nbformat_minor": 2
}
